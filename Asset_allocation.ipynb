{
  "nbformat": 4,
  "nbformat_minor": 0,
  "metadata": {
    "colab": {
      "provenance": [],
      "authorship_tag": "ABX9TyMmSmQkk0yVYO1JoS1+WEyb",
      "include_colab_link": true
    },
    "kernelspec": {
      "name": "python3",
      "display_name": "Python 3"
    },
    "language_info": {
      "name": "python"
    }
  },
  "cells": [
    {
      "cell_type": "markdown",
      "metadata": {
        "id": "view-in-github",
        "colab_type": "text"
      },
      "source": [
        "<a href=\"https://colab.research.google.com/github/ArpitRawat07/Asset_Allocation/blob/main/Asset_allocation.ipynb\" target=\"_parent\"><img src=\"https://colab.research.google.com/assets/colab-badge.svg\" alt=\"Open In Colab\"/></a>"
      ]
    },
    {
      "cell_type": "code",
      "execution_count": null,
      "metadata": {
        "id": "f1UN3gWfCw4P"
      },
      "outputs": [],
      "source": [
        "import yfinance as yf\n",
        "import pandas as pd\n",
        "import numpy as np\n",
        "from scipy.optimize import minimize"
      ]
    },
    {
      "cell_type": "markdown",
      "source": [],
      "metadata": {
        "id": "qrvktvNmQNI0"
      }
    },
    {
      "cell_type": "code",
      "source": [
        "import pandas as pd\n",
        "\n",
        "# List of tickers\n",
        "tickers = ['AAPL', 'MSFT', 'AMZN', 'GOOG','TSLA','JPM','BAC']\n",
        "\n",
        "# Download data from Yahoo Finance\n",
        "data = yf.download(tickers, start='2019-01-01', end='2022-12-31')\n",
        "\n",
        "# Select relevant columns\n",
        "data = data['Adj Close']\n",
        "\n",
        "# Calculate daily returns\n",
        "returns = data.pct_change()\n",
        "\n",
        "# Print the first few rows of the returns dataset\n",
        "print(returns)\n"
      ],
      "metadata": {
        "colab": {
          "base_uri": "https://localhost:8080/"
        },
        "id": "fQ_rK80cVo95",
        "outputId": "81036fad-1c7c-4d7a-a54a-271b64337d92"
      },
      "execution_count": null,
      "outputs": [
        {
          "output_type": "stream",
          "name": "stdout",
          "text": [
            "[*********************100%***********************]  7 of 7 completed\n",
            "                AAPL      AMZN       BAC      GOOG       JPM      MSFT  \\\n",
            "Date                                                                     \n",
            "2019-01-02       NaN       NaN       NaN       NaN       NaN       NaN   \n",
            "2019-01-03 -0.099608 -0.025241 -0.016025 -0.028484 -0.014212 -0.036788   \n",
            "2019-01-04  0.042690  0.050064  0.041531  0.053786  0.036865  0.046509   \n",
            "2019-01-07 -0.002226  0.034353 -0.000782 -0.002167  0.000695  0.001275   \n",
            "2019-01-08  0.019063  0.016612 -0.001956  0.007385 -0.001886  0.007251   \n",
            "...              ...       ...       ...       ...       ...       ...   \n",
            "2022-12-23 -0.002798  0.017425  0.002470  0.017562  0.004745  0.002267   \n",
            "2022-12-27 -0.013878 -0.025924  0.001848 -0.020933  0.003504 -0.007414   \n",
            "2022-12-28 -0.030685 -0.014692  0.007378 -0.016718  0.005465 -0.010255   \n",
            "2022-12-29  0.028324  0.028844  0.011291  0.028799  0.005738  0.027630   \n",
            "2022-12-30  0.002469 -0.002138 -0.000603 -0.002473  0.006606 -0.004937   \n",
            "\n",
            "                TSLA  \n",
            "Date                  \n",
            "2019-01-02       NaN  \n",
            "2019-01-03 -0.031472  \n",
            "2019-01-04  0.057697  \n",
            "2019-01-07  0.054361  \n",
            "2019-01-08  0.001164  \n",
            "...              ...  \n",
            "2022-12-23 -0.017551  \n",
            "2022-12-27 -0.114089  \n",
            "2022-12-28  0.033089  \n",
            "2022-12-29  0.080827  \n",
            "2022-12-30  0.011164  \n",
            "\n",
            "[1008 rows x 7 columns]\n"
          ]
        }
      ]
    },
    {
      "cell_type": "code",
      "source": [
        "# Preprocessing\n",
        "mean_returns = returns.mean()\n",
        "cov_matrix = returns.cov()\n"
      ],
      "metadata": {
        "id": "x9edAaMzinTl"
      },
      "execution_count": null,
      "outputs": []
    },
    {
      "cell_type": "code",
      "source": [
        "# Define objective function\n",
        "def objective(weights):\n",
        "    weights = np.array(weights)\n",
        "    portfolio_return = np.sum(mean_returns * weights)\n",
        "    portfolio_volatility = np.sqrt(np.dot(weights.T, np.dot(cov_matrix, weights)))\n",
        "    return portfolio_volatility"
      ],
      "metadata": {
        "id": "YXyL2z77i-lX"
      },
      "execution_count": null,
      "outputs": []
    },
    {
      "cell_type": "code",
      "source": [
        "# Define constraints\n",
        "cons = ({'type': 'eq', 'fun': lambda x: np.sum(x) - 1})\n",
        "\n",
        "# Define bounds\n",
        "bounds = tuple((0,1) for i in range(len(tickers)))\n"
      ],
      "metadata": {
        "id": "M_dDCv5YjCFf"
      },
      "execution_count": null,
      "outputs": []
    },
    {
      "cell_type": "code",
      "source": [
        "# Run optimization\n",
        "initial_weights = [1/len(tickers) for i in range(len(tickers))]\n",
        "result = minimize(objective, initial_weights, method='SLSQP', bounds=bounds, constraints=cons)\n"
      ],
      "metadata": {
        "id": "vL0bSM5WjFQM"
      },
      "execution_count": null,
      "outputs": []
    },
    {
      "cell_type": "code",
      "source": [
        "\n",
        "# Print results\n",
        "print('Optimal weights:', result.x)\n",
        "print('Expected return:', np.sum(result.x * mean_returns))\n",
        "print('Volatility:', np.sqrt(np.dot(result.x.T, np.dot(cov_matrix, result.x))))"
      ],
      "metadata": {
        "colab": {
          "base_uri": "https://localhost:8080/"
        },
        "id": "GgNTnfofjIFV",
        "outputId": "a7d1e1c3-97b6-4fba-b71d-12a306dc57f0"
      },
      "execution_count": null,
      "outputs": [
        {
          "output_type": "stream",
          "name": "stdout",
          "text": [
            "Optimal weights: [3.23988367e-02 2.26283882e-01 1.73472348e-18 2.05178205e-01\n",
            " 3.78379454e-01 1.57759621e-01 0.00000000e+00]\n",
            "Expected return: 0.0006932364017810729\n",
            "Volatility: 0.01710805602892906\n"
          ]
        }
      ]
    },
    {
      "cell_type": "code",
      "source": [],
      "metadata": {
        "id": "6uyFALKKjMY6"
      },
      "execution_count": null,
      "outputs": []
    }
  ]
}