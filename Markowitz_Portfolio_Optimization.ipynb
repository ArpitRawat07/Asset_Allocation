{
  "nbformat": 4,
  "nbformat_minor": 0,
  "metadata": {
    "colab": {
      "provenance": [],
      "authorship_tag": "ABX9TyMxcZW2aXGLBqS2tM/Q4+t2",
      "include_colab_link": true
    },
    "kernelspec": {
      "name": "python3",
      "display_name": "Python 3"
    },
    "language_info": {
      "name": "python"
    }
  },
  "cells": [
    {
      "cell_type": "markdown",
      "metadata": {
        "id": "view-in-github",
        "colab_type": "text"
      },
      "source": [
        "<a href=\"https://colab.research.google.com/github/ArpitRawat07/Asset_Allocation/blob/main/Markowitz_Portfolio_Optimization.ipynb\" target=\"_parent\"><img src=\"https://colab.research.google.com/assets/colab-badge.svg\" alt=\"Open In Colab\"/></a>"
      ]
    },
    {
      "cell_type": "code",
      "source": [
        "import pandas as pd\n",
        "from scipy.optimize import minimize\n",
        "import numpy as np\n",
        "import yfinance as yf"
      ],
      "metadata": {
        "id": "UpexfsX47BSS"
      },
      "execution_count": null,
      "outputs": []
    },
    {
      "cell_type": "code",
      "source": [
        "# Define the list of tickers\n",
        "tickers = ['AAPL', 'JPM', 'TSLA', 'GOOGL', 'JPM', 'MSFT', 'BAC', 'GS', 'MS','META']\n",
        "\n",
        "# Fetch historical price data using Yahoo Finance API\n",
        "data = yf.download(tickers, start='2022-01-01', end='2022-12-31')['Adj Close']\n",
        "\n",
        "# Calculate returns\n",
        "returns = data.pct_change().dropna()\n",
        "\n",
        "print(data)"
      ],
      "metadata": {
        "colab": {
          "base_uri": "https://localhost:8080/"
        },
        "id": "EL91sMoO7EEY",
        "outputId": "3e0f308f-3667-48ad-8c5e-538978ff867f"
      },
      "execution_count": null,
      "outputs": [
        {
          "output_type": "stream",
          "name": "stdout",
          "text": [
            "[*********************100%***********************]  9 of 9 completed\n",
            "                  AAPL        BAC       GOOGL          GS         JPM  \\\n",
            "Date                                                                    \n",
            "2022-01-03  180.434296  44.483429  144.991501  379.539917  153.338287   \n",
            "2022-01-04  178.144302  46.226936  144.399506  391.204651  159.151291   \n",
            "2022-01-05  173.405685  45.446686  137.774994  382.708099  156.241684   \n",
            "2022-01-06  170.510971  46.361786  137.747498  381.075989  157.901611   \n",
            "2022-01-07  170.679474  47.373211  137.016998  381.632843  159.466125   \n",
            "...                ...        ...         ...         ...         ...   \n",
            "2022-12-23  131.477127  32.005371   89.230003  340.461304  128.420670   \n",
            "2022-12-27  129.652435  32.064510   87.389999  336.973022  128.870667   \n",
            "2022-12-28  125.674026  32.301079   86.019997  335.889069  129.574982   \n",
            "2022-12-29  129.233658  32.665783   88.449997  338.411652  130.318420   \n",
            "2022-12-30  129.552719  32.646065   88.230003  338.362427  131.179276   \n",
            "\n",
            "                  META         MS        MSFT        TSLA  \n",
            "Date                                                       \n",
            "2022-01-03  338.540009  95.185501  330.092285  399.926666  \n",
            "2022-01-04  336.529999  99.052216  324.432159  383.196655  \n",
            "2022-01-05  324.170013  96.601074  311.977905  362.706665  \n",
            "2022-01-06  332.459991  98.254158  309.512634  354.899994  \n",
            "2022-01-07  331.790009  98.852692  309.670471  342.320007  \n",
            "...                ...        ...         ...         ...  \n",
            "2022-12-23  118.040001  84.687561  237.614105  123.150002  \n",
            "2022-12-27  116.879997  83.654907  235.852386  109.099998  \n",
            "2022-12-28  115.620003  83.064819  233.433731  112.709999  \n",
            "2022-12-29  120.260002  83.831932  239.883453  121.820000  \n",
            "2022-12-30  120.339996  83.615570  238.699020  123.180000  \n",
            "\n",
            "[251 rows x 9 columns]\n"
          ]
        }
      ]
    },
    {
      "cell_type": "code",
      "source": [
        "print(returns)"
      ],
      "metadata": {
        "colab": {
          "base_uri": "https://localhost:8080/"
        },
        "id": "vCNWDSD-7s4R",
        "outputId": "b105c237-1479-4aec-fcde-606a61a9e83b"
      },
      "execution_count": null,
      "outputs": [
        {
          "output_type": "stream",
          "name": "stdout",
          "text": [
            "                AAPL       BAC     GOOGL        GS       JPM      META  \\\n",
            "Date                                                                     \n",
            "2022-01-04 -0.012692  0.039195 -0.004083  0.030734  0.037910 -0.005937   \n",
            "2022-01-05 -0.026600 -0.016879 -0.045876 -0.021719 -0.018282 -0.036728   \n",
            "2022-01-06 -0.016693  0.020136 -0.000200 -0.004265  0.010624  0.025573   \n",
            "2022-01-07  0.000988  0.021816 -0.005303  0.001461  0.009908 -0.002015   \n",
            "2022-01-10  0.000116 -0.005083  0.012061  0.004176  0.000957 -0.011212   \n",
            "...              ...       ...       ...       ...       ...       ...   \n",
            "2022-12-23 -0.002798  0.002470  0.016750 -0.000202  0.004745  0.007855   \n",
            "2022-12-27 -0.013878  0.001848 -0.020621 -0.010246  0.003504 -0.009827   \n",
            "2022-12-28 -0.030685  0.007378 -0.015677 -0.003217  0.005465 -0.010780   \n",
            "2022-12-29  0.028324  0.011291  0.028249  0.007510  0.005738  0.040131   \n",
            "2022-12-30  0.002469 -0.000604 -0.002487 -0.000145  0.006606  0.000665   \n",
            "\n",
            "                  MS      MSFT      TSLA  \n",
            "Date                                      \n",
            "2022-01-04  0.040623 -0.017147 -0.041833  \n",
            "2022-01-05 -0.024746 -0.038388 -0.053471  \n",
            "2022-01-06  0.017112 -0.007902 -0.021523  \n",
            "2022-01-07  0.006092  0.000510 -0.035447  \n",
            "2022-01-10  0.000769  0.000732  0.030342  \n",
            "...              ...       ...       ...  \n",
            "2022-12-23 -0.003010  0.002267 -0.017551  \n",
            "2022-12-27 -0.012194 -0.007414 -0.114089  \n",
            "2022-12-28 -0.007054 -0.010255  0.033089  \n",
            "2022-12-29  0.009235  0.027630  0.080827  \n",
            "2022-12-30 -0.002581 -0.004938  0.011164  \n",
            "\n",
            "[250 rows x 9 columns]\n"
          ]
        }
      ]
    },
    {
      "cell_type": "code",
      "source": [
        "# Define the objective function to minimize portfolio risk\n",
        "def portfolio_variance(weights, returns, cov_matrix):\n",
        "    portfolio_return = np.sum(returns.mean() * weights)\n",
        "    portfolio_volatility = np.sqrt(np.dot(weights.T, np.dot(cov_matrix, weights)))\n",
        "    return portfolio_volatility\n"
      ],
      "metadata": {
        "id": "IMw26CSq7JOs"
      },
      "execution_count": null,
      "outputs": []
    },
    {
      "cell_type": "code",
      "source": [
        "# Define the constraints for the optimization\n",
        "def constraint_func(weights):\n",
        "    return np.sum(weights) - 1\n",
        "\n",
        "def optimize_portfolio(returns):\n",
        "    # Calculating Expected returns, Covariance matrix\n",
        "    expected_returns = returns.mean()\n",
        "    cov_matrix = returns.cov()\n",
        "\n",
        "    # Setting the Initial weights (optimization)\n",
        "    num_assets = len(returns.columns)\n",
        "    init_weights = np.ones(num_assets) / num_assets\n",
        "\n",
        "    # Define the optimization bounds and constraints\n",
        "    bounds = ((0, 1),) * num_assets\n",
        "    constraints = {'type': 'eq', 'fun': constraint_func}\n",
        "\n",
        "    # Perform the optimization\n",
        "    result = minimize(portfolio_variance, init_weights, args=(expected_returns, cov_matrix),\n",
        "                      method='SLSQP', bounds=bounds, constraints=constraints)\n",
        "\n",
        "    return result\n"
      ],
      "metadata": {
        "id": "jqFVPVP67M7x"
      },
      "execution_count": null,
      "outputs": []
    },
    {
      "cell_type": "code",
      "source": [
        "# Perform portfolio optimization\n",
        "result = optimize_portfolio(returns)\n",
        "\n",
        "# Extract the optimized weights\n",
        "opt_weights = result.x\n",
        "\n",
        "# Print the optimized weights\n",
        "print(\"Optimized Weights:\")\n",
        "for i in range(len(returns.columns)):\n",
        "    print(returns.columns[i] + \": {:.2%}\".format(opt_weights[i]))\n"
      ],
      "metadata": {
        "colab": {
          "base_uri": "https://localhost:8080/"
        },
        "id": "ZWwukHf97VGS",
        "outputId": "4278a751-97e1-444e-d1c6-fd1352c88edb"
      },
      "execution_count": null,
      "outputs": [
        {
          "output_type": "stream",
          "name": "stdout",
          "text": [
            "Optimized Weights:\n",
            "AAPL: 10.95%\n",
            "BAC: 0.00%\n",
            "GOOGL: 0.00%\n",
            "GS: 33.43%\n",
            "JPM: 39.95%\n",
            "META: 0.00%\n",
            "MS: 0.00%\n",
            "MSFT: 15.68%\n",
            "TSLA: 0.00%\n"
          ]
        }
      ]
    },
    {
      "cell_type": "code",
      "execution_count": null,
      "metadata": {
        "colab": {
          "base_uri": "https://localhost:8080/"
        },
        "id": "rfvSrG6352qa",
        "outputId": "3c9260dc-1645-4374-a0f9-a2f2e5851540"
      },
      "outputs": [
        {
          "output_type": "stream",
          "name": "stdout",
          "text": [
            "Portfolio Returns: -0.06%\n",
            "Portfolio Volatility: 1.73%\n"
          ]
        }
      ],
      "source": [
        "\n",
        "# Calculate portfolio returns and volatility\n",
        "portfolio_returns = np.sum(returns.mean() * opt_weights)\n",
        "portfolio_volatility = np.sqrt(np.dot(opt_weights.T, np.dot(returns.cov(), opt_weights)))\n",
        "\n",
        "\n",
        "# Print portfolio returns and volatility\n",
        "print(\"Portfolio Returns: {:.2%}\".format(portfolio_returns))\n",
        "print(\"Portfolio Volatility: {:.2%}\".format(portfolio_volatility))\n"
      ]
    },
    {
      "cell_type": "code",
      "source": [
        "import pandas as pd\n",
        "import numpy as np\n",
        "import yfinance as yf\n",
        "from scipy.optimize import minimize\n",
        "import matplotlib.pyplot as plt\n",
        "\n",
        "# Define the list of tickers\n",
        "tickers = ['AAPL', 'JPM', 'TSLA', 'GOOGL', 'JPM', 'MSFT', 'BAC', 'GS', 'MS', 'META']\n",
        "\n",
        "# Fetch historical price data using Yahoo Finance API\n",
        "data = yf.download(tickers, start='2015-01-01', end='2015-12-31')['Adj Close']\n",
        "\n",
        "# Calculate returns\n",
        "returns = data.pct_change().dropna()\n",
        "\n",
        "# Calculate expected returns and covariance matrix\n",
        "expected_returns = returns.mean()\n",
        "cov_matrix = returns.cov()\n",
        "\n",
        "# Setting the initial weights (optimization)\n",
        "num_assets = len(returns.columns)\n",
        "init_weights = np.ones(num_assets) / num_assets\n",
        "\n",
        "# Define the objective function to minimize portfolio risk\n",
        "def portfolio_variance(weights, returns, cov_matrix):\n",
        "    portfolio_return = np.sum(returns.mean() * weights)\n",
        "    portfolio_volatility = np.sqrt(np.dot(weights.T, np.dot(cov_matrix, weights)))\n",
        "    return portfolio_volatility\n",
        "\n",
        "# Define the constraints for the optimization\n",
        "def constraint_func(weights):\n",
        "    return np.sum(weights) - 1\n",
        "\n",
        "def optimize_portfolio(returns):\n",
        "    # Define the optimization bounds and constraints\n",
        "    bounds = ((0, 1),) * num_assets\n",
        "    constraints = {'type': 'eq', 'fun': constraint_func}\n",
        "\n",
        "    # Perform the optimization\n",
        "    result = minimize(portfolio_variance, init_weights, args=(returns, cov_matrix),\n",
        "                      method='SLSQP', bounds=bounds, constraints=constraints)#Sequential Least Squares Programming\n",
        "\n",
        "    return result\n",
        "\n",
        "# Perform portfolio optimization\n",
        "result = optimize_portfolio(returns)\n",
        "\n",
        "# Extract the optimized weights\n",
        "opt_weights = result.x\n",
        "\n",
        "\n",
        "\n"
      ],
      "metadata": {
        "colab": {
          "base_uri": "https://localhost:8080/",
          "height": 790
        },
        "id": "w29LuY1XLP4Z",
        "outputId": "c2460645-4f7e-47c6-b12c-5067dedb3107"
      },
      "execution_count": null,
      "outputs": [
        {
          "output_type": "stream",
          "name": "stdout",
          "text": [
            "[*********************100%***********************]  9 of 9 completed\n",
            "Optimized Weights:\n",
            "AAPL: 17.56%\n",
            "BAC: 0.00%\n",
            "GOOGL: 11.82%\n",
            "GS: 22.77%\n",
            "JPM: 24.95%\n",
            "META: 15.66%\n",
            "MS: 0.00%\n",
            "MSFT: 4.91%\n",
            "TSLA: 2.34%\n",
            "Portfolio Returns: 0.06%\n",
            "Portfolio Volatility: 1.24%\n"
          ]
        },
        {
          "output_type": "display_data",
          "data": {
            "text/plain": [
              "<Figure size 1000x600 with 1 Axes>"
            ],
            "image/png": "[encoded data removed]"
          },
          "metadata": {}
        }
      ]
    },
    {
      "cell_type": "code",
      "source": [
        "# Print the optimized weights\n",
        "print(\"Optimized Weights:\")\n",
        "for i in range(len(returns.columns)):\n",
        "    print(returns.columns[i] + \": {:.2%}\".format(opt_weights[i]))\n",
        "\n",
        "# Calculate portfolio returns and volatility\n",
        "portfolio_returns = np.sum(returns.mean() * opt_weights)\n",
        "portfolio_volatility = np.sqrt(np.dot(opt_weights.T, np.dot(returns.cov(), opt_weights)))\n",
        "\n",
        "# Print portfolio returns and volatility\n",
        "print(\"Portfolio Returns: {:.2%}\".format(portfolio_returns))\n",
        "print(\"Portfolio Volatility: {:.2%}\".format(portfolio_volatility))\n",
        "\n",
        "# Define a range of target returns\n",
        "target_returns = np.linspace(0.0, 0.3, num=100)\n",
        "\n",
        "# Initialize lists to store portfolio returns and volatilities\n",
        "efficient_returns = []\n",
        "efficient_volatility = []\n",
        "\n"
      ],
      "metadata": {
        "id": "EsEJIxuaivaN"
      },
      "execution_count": null,
      "outputs": []
    },
    {
      "cell_type": "code",
      "source": [
        "# Iterate over target returns and optimize portfolio for each target return\n",
        "for target_return in target_returns:\n",
        "    # Define a new constraint for the target return\n",
        "    constraints = ({'type': 'eq', 'fun': lambda w: np.sum(w * expected_returns) - target_return})\n",
        "\n",
        "    # Perform the optimization with the updated constraint\n",
        "    result = minimize(portfolio_variance, init_weights, args=(returns, cov_matrix),\n",
        "                      method='SLSQP', constraints=constraints)\n",
        "    opt_weights = result.x\n",
        "\n",
        "    # Calculate portfolio returns and volatility\n",
        "    efficient_returns.append(target_return)\n",
        "    efficient_volatility.append(np.sqrt(np.dot(opt_weights.T, np.dot(cov_matrix, opt_weights))))\n"
      ],
      "metadata": {
        "id": "6Onk8SfFis49"
      },
      "execution_count": null,
      "outputs": []
    },
    {
      "cell_type": "code",
      "source": [
        "# Convert lists to NumPy arrays\n",
        "efficient_returns = np.array(efficient_returns)\n",
        "efficient_volatility = np.array(efficient_volatility)\n"
      ],
      "metadata": {
        "id": "5USH3ym3irEv"
      },
      "execution_count": null,
      "outputs": []
    },
    {
      "cell_type": "code",
      "source": [
        "# Plot the efficient frontier\n",
        "plt.figure(figsize=(10, 6))\n",
        "plt.plot(efficient_volatility, efficient_returns, color='blue', label='Efficient Frontier')\n",
        "plt.scatter(portfolio_volatility, portfolio_returns, marker='*', color='red', label='Optimized Portfolio')\n",
        "plt.xlabel('Volatility')\n",
        "plt.ylabel('Expected Return')\n",
        "plt.title('Efficient Frontier')\n",
        "plt.grid(True)\n",
        "plt.legend()\n",
        "plt.show()\n"
      ],
      "metadata": {
        "id": "hdJ6Zndqim9R"
      },
      "execution_count": null,
      "outputs": []
    }
  ]
}